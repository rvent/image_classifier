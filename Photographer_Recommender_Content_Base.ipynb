{
 "cells": [
  {
   "cell_type": "code",
   "execution_count": 4,
   "metadata": {},
   "outputs": [],
   "source": [
    "from selenium import webdriver\n",
    "from selenium.webdriver.common.keys import Keys\n",
    "import selenium.webdriver.support.ui as sui\n",
    "from bs4 import BeautifulSoup\n",
    "from IPython.display import Image\n",
    "import time"
   ]
  },
  {
   "cell_type": "code",
   "execution_count": 49,
   "metadata": {},
   "outputs": [],
   "source": [
    "def get_fearless_photographers(lst_of_state_num):\n",
    "    driver = webdriver.Firefox()\n",
    "    photographers = {}\n",
    "    lst = []\n",
    "    lst2 = []\n",
    "    lst3 = []\n",
    "    for num in lst_of_state_num:\n",
    "        driver.get(f\"https://www.fearlessphotographers.com/location/{num}\")\n",
    "        element = driver.find_element_by_xpath(\"//a[@data-sort='wedding-count']\")\n",
    "        element.click()\n",
    "        time.sleep(2)\n",
    "        elements = driver.find_elements_by_class_name(\"photog-listing\")\n",
    "        elements2 = driver.find_elements_by_tag_name(\"a\")\n",
    "        for ele in elements:\n",
    "            lst.append(ele.text)\n",
    "            lst2.append([ele.get_attribute(\"data-awards\"), ele.get_attribute(\"data-like-count\"), \n",
    "                        ele.get_attribute(\"data-wedding-count\"), ele.get_attribute(\"data-review-count\"),\n",
    "                        ele.get_attribute(\"data-price-range\"), ele.get_attribute(\"data-rank-all\")])\n",
    "        for ele in elements2:\n",
    "            if ele.get_attribute(\"href\") != None and \"/photographer\" in ele.get_attribute(\"href\"): \n",
    "                lst3.append(ele.get_attribute(\"href\"))\n",
    "    driver.close()\n",
    "    return lst, lst2, lst3\n",
    "    \n",
    "        "
   ]
  },
  {
   "cell_type": "code",
   "execution_count": 50,
   "metadata": {},
   "outputs": [],
   "source": [
    "a,b,c = get_fearless_photographers([34])"
   ]
  },
  {
   "cell_type": "code",
   "execution_count": 51,
   "metadata": {},
   "outputs": [
    {
     "data": {
      "text/plain": [
       "['CHRIS ANDERS\\nJersey Shore\\n36 Real Couples\\n$$$$\\nContact',\n",
       " 'MICHELLE ARLOTTA\\nCentral New Jersey\\n30 Real Couples\\n$$$$\\nContact']"
      ]
     },
     "execution_count": 51,
     "metadata": {},
     "output_type": "execute_result"
    }
   ],
   "source": [
    "a"
   ]
  },
  {
   "cell_type": "code",
   "execution_count": 52,
   "metadata": {},
   "outputs": [
    {
     "data": {
      "text/plain": [
       "[['0', '31', '36', '0', '2', '1702'], ['0', '310', '30', '1', '2', '964']]"
      ]
     },
     "execution_count": 52,
     "metadata": {},
     "output_type": "execute_result"
    }
   ],
   "source": [
    "b"
   ]
  },
  {
   "cell_type": "code",
   "execution_count": 53,
   "metadata": {},
   "outputs": [
    {
     "data": {
      "text/plain": [
       "['https://www.fearlessphotographers.com/photographer/6641/chris-anders',\n",
       " 'https://www.fearlessphotographers.com/photographer/1872/michelle-arlotta',\n",
       " 'https://www.fearlessphotographers.com/photographer/4015/danette-pascarella',\n",
       " 'https://www.fearlessphotographers.com/photographer/6635/kelly-giardina',\n",
       " 'https://www.fearlessphotographers.com/photographer/6634/nick-giardina',\n",
       " 'https://www.fearlessphotographers.com/photographer/854/emin-kuliyev',\n",
       " 'https://www.fearlessphotographers.com/photographer/4741/chiu-mei',\n",
       " 'https://www.fearlessphotographers.com/photographer/2648/dave-paek',\n",
       " 'https://www.fearlessphotographers.com/photographer/91/jacklyn-greenberg',\n",
       " 'https://www.fearlessphotographers.com/photographer/5639/dmytro-sobokar',\n",
       " 'https://www.fearlessphotographers.com/photographer/4772/russ-hickman',\n",
       " 'https://www.fearlessphotographers.com/photographer/103/steven-young',\n",
       " 'https://www.fearlessphotographers.com/photographer/1395/julianne-markow',\n",
       " 'https://www.fearlessphotographers.com/photographer/3002/matt-werth',\n",
       " 'https://www.fearlessphotographers.com/photographer/8235/stephanie-zakas',\n",
       " 'https://www.fearlessphotographers.com/photographer/6035/will-han',\n",
       " 'https://www.fearlessphotographers.com/photographer/2105/lauren-brimhall',\n",
       " 'https://www.fearlessphotographers.com/photographer/5317/matthew-sowa',\n",
       " 'https://www.fearlessphotographers.com/photographer/5918/patricia-freire',\n",
       " 'https://www.fearlessphotographers.com/photographer/4296/angelica-criscuolo',\n",
       " 'https://www.fearlessphotographers.com/photographer/6077/tim-gangi',\n",
       " 'https://www.fearlessphotographers.com/photographer/6110/tricia-laponte',\n",
       " 'https://www.fearlessphotographers.com/photographer/4139/minnow-park',\n",
       " 'https://www.fearlessphotographers.com/photographer/105/todd-laffler',\n",
       " 'https://www.fearlessphotographers.com/photographer/4900/meg-brock',\n",
       " 'https://www.fearlessphotographers.com/photographer/5545/kate-testa',\n",
       " 'https://www.fearlessphotographers.com/photographer/6787/michelle-scelfo',\n",
       " 'https://www.fearlessphotographers.com/photographer/7016/sean-gallant',\n",
       " 'https://www.fearlessphotographers.com/photographer/953/ryan-brenizer',\n",
       " 'https://www.fearlessphotographers.com/photographer/6923/matthew-stallone',\n",
       " 'https://www.fearlessphotographers.com/photographer/4773/oxana-tarynina',\n",
       " 'https://www.fearlessphotographers.com/photographer/8454/daniel-nydick',\n",
       " 'https://www.fearlessphotographers.com/photographer/7748/krystyna-tarasiiuk',\n",
       " 'https://www.fearlessphotographers.com/photographer/7158/allison-mccafferty',\n",
       " 'https://www.fearlessphotographers.com/photographer/4918/anastasia-romanova',\n",
       " 'https://www.fearlessphotographers.com/photographer/489/jarot-bocanegra',\n",
       " 'https://www.fearlessphotographers.com/photographer/5943/jason-pierce',\n",
       " 'https://www.fearlessphotographers.com/photographer/1032/tom-harmon',\n",
       " 'https://www.fearlessphotographers.com/photographer/8355/aly-kuler',\n",
       " 'https://www.fearlessphotographers.com/photographer/3466/miguel-angel',\n",
       " 'https://www.fearlessphotographers.com/photographer/5138/ketanuva-a',\n",
       " 'https://www.fearlessphotographers.com/photographer/5052/adrienne-longo',\n",
       " 'https://www.fearlessphotographers.com/photographer/4712/adena-stevens',\n",
       " 'https://www.fearlessphotographers.com/photographer/6352/jennifer-ludwig',\n",
       " 'https://www.fearlessphotographers.com/photographer/7605/tony-yang',\n",
       " 'https://www.fearlessphotographers.com/photographer/6716/justin-pedrick',\n",
       " 'https://www.fearlessphotographers.com/photographer/821/ted-felsberg',\n",
       " 'https://www.fearlessphotographers.com/photographer/1945/stephan-debelle',\n",
       " 'https://www.fearlessphotographers.com/photographer/623/berit-bizjak',\n",
       " 'https://www.fearlessphotographers.com/photographer/1282/matthew-douglas',\n",
       " 'https://www.fearlessphotographers.com/photographer/1776/yeahia-ahmed',\n",
       " 'https://www.fearlessphotographers.com/photographer/262/joseph-gidjunis',\n",
       " 'https://www.fearlessphotographers.com/photographer/6389/brian-mark-bolante',\n",
       " 'https://www.fearlessphotographers.com/photographer/5484/jd-land',\n",
       " 'https://www.fearlessphotographers.com/photographer/5550/jay-cassario',\n",
       " 'https://www.fearlessphotographers.com/photographer/7020/leaha-bourgeois',\n",
       " 'https://www.fearlessphotographers.com/photographer/12/gulnara-s',\n",
       " 'https://www.fearlessphotographers.com/photographer/1768/nathan-supan',\n",
       " 'https://www.fearlessphotographers.com/photographer/7563/anthony-mickeal',\n",
       " 'https://www.fearlessphotographers.com/photographer/6926/celestina-ando',\n",
       " 'https://www.fearlessphotographers.com/photographer/988/jeff-tisman',\n",
       " 'https://www.fearlessphotographers.com/photographer/8495/roman-castro',\n",
       " 'https://www.fearlessphotographers.com/photographer/6921/jen-stitt',\n",
       " 'https://www.fearlessphotographers.com/photographer/3726/eric-sucar',\n",
       " 'https://www.fearlessphotographers.com/photographer/5817/chanakya-patel',\n",
       " 'https://www.fearlessphotographers.com/photographer/4125/john-kotlowski',\n",
       " 'https://www.fearlessphotographers.com/photographer/6790/damion-edwards',\n",
       " 'https://www.fearlessphotographers.com/photographer/3810/guy-vindigni',\n",
       " 'https://www.fearlessphotographers.com/photographer/7047/beau-ridge',\n",
       " 'https://www.fearlessphotographers.com/photographer/1924/gleb-freeman',\n",
       " 'https://www.fearlessphotographers.com/photographer/3946/kristen-driscoll',\n",
       " 'https://www.fearlessphotographers.com/photographer/1229/iryna-shostak',\n",
       " 'https://www.fearlessphotographers.com/photographer/1093/danielle-richards',\n",
       " 'https://www.fearlessphotographers.com/photographer/8422/anton-drummond',\n",
       " 'https://www.fearlessphotographers.com/photographer/5330/charmi-patel-pena',\n",
       " 'https://www.fearlessphotographers.com/photographer/8566/brad-resnick',\n",
       " 'https://www.fearlessphotographers.com/photographer/1443/marcia-weinstein',\n",
       " 'https://www.fearlessphotographers.com/photographer/1420/ben-lau',\n",
       " 'https://www.fearlessphotographers.com/photographer/184/brittany-harmening',\n",
       " 'https://www.fearlessphotographers.com/photographer/1931/raj-sarma',\n",
       " 'https://www.fearlessphotographers.com/photographer/7780/stacey-salter-moore',\n",
       " 'https://www.fearlessphotographers.com/photographer/1038/orlando-oliveira',\n",
       " 'https://www.fearlessphotographers.com/photographer/6355/sandra-chile',\n",
       " 'https://www.fearlessphotographers.com/photographer/7040/james-webb']"
      ]
     },
     "execution_count": 53,
     "metadata": {},
     "output_type": "execute_result"
    }
   ],
   "source": [
    "c"
   ]
  },
  {
   "cell_type": "code",
   "execution_count": null,
   "metadata": {},
   "outputs": [],
   "source": []
  }
 ],
 "metadata": {
  "kernelspec": {
   "display_name": "Python 3",
   "language": "python",
   "name": "python3"
  },
  "language_info": {
   "codemirror_mode": {
    "name": "ipython",
    "version": 3
   },
   "file_extension": ".py",
   "mimetype": "text/x-python",
   "name": "python",
   "nbconvert_exporter": "python",
   "pygments_lexer": "ipython3",
   "version": "3.6.7"
  }
 },
 "nbformat": 4,
 "nbformat_minor": 2
}
