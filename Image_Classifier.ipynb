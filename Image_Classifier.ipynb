{
 "cells": [
  {
   "cell_type": "code",
   "execution_count": 1,
   "metadata": {},
   "outputs": [
    {
     "name": "stderr",
     "output_type": "stream",
     "text": [
      "Using TensorFlow backend.\n"
     ]
    }
   ],
   "source": [
    "import numpy as np\n",
    "from selenium import webdriver\n",
    "from selenium.webdriver.common.keys import Keys\n",
    "import selenium.webdriver.support.ui as sui\n",
    "from bs4 import BeautifulSoup\n",
    "import urllib\n",
    "import time\n",
    "import os\n",
    "import keras\n",
    "from keras.models import Sequential\n",
    "from keras.layers.convolutional import Conv2D\n",
    "from keras.layers.convolutional import MaxPooling2D\n",
    "from keras.layers.core import Activation\n",
    "from keras.layers.core import Flatten\n",
    "from keras.layers.core import Dense"
   ]
  },
  {
   "cell_type": "markdown",
   "metadata": {},
   "source": [
    "# Shingles"
   ]
  },
  {
   "cell_type": "code",
   "execution_count": 6,
   "metadata": {},
   "outputs": [],
   "source": [
    "# function that searches different search terms\n",
    "def find_image(term):\n",
    "    folder = term.replace(\" \", \"_\")\n",
    "    if not os.path.isdir(f\"./{folder}\"):\n",
    "        os.makedirs(f\"./{folder}\")\n",
    "    driver = webdriver.Firefox()\n",
    "    driver.get(\"https://www.google.com/imghp\")\n",
    "    time.sleep(1)\n",
    "    element = driver.find_element_by_xpath(\"//input[@class='gLFyf gsfi']\")\n",
    "    element.send_keys(f\"{term}\")\n",
    "    time.sleep(1)\n",
    "    element.send_keys(Keys.ENTER)\n",
    "    time.sleep(1)\n",
    "    elements = driver.find_elements_by_xpath(\"//img[@class='rg_ic rg_i']\")\n",
    "    time.sleep(1)\n",
    "    for num, ele in enumerate(elements):\n",
    "        try:\n",
    "            src = ele.get_attribute(\"src\")\n",
    "            urllib.request.urlretrieve(src, f\"{folder}/img_{num}.png\")\n",
    "        except:\n",
    "            print(\"No Source\")\n",
    "    driver.close()"
   ]
  },
  {
   "cell_type": "code",
   "execution_count": 7,
   "metadata": {},
   "outputs": [
    {
     "name": "stdout",
     "output_type": "stream",
     "text": [
      "No Source\n",
      "No Source\n",
      "No Source\n",
      "No Source\n",
      "No Source\n",
      "No Source\n",
      "No Source\n",
      "No Source\n",
      "No Source\n",
      "No Source\n",
      "No Source\n",
      "No Source\n",
      "No Source\n",
      "No Source\n",
      "No Source\n",
      "No Source\n",
      "No Source\n",
      "No Source\n",
      "No Source\n",
      "No Source\n",
      "No Source\n",
      "No Source\n",
      "No Source\n",
      "No Source\n",
      "No Source\n",
      "No Source\n",
      "No Source\n",
      "No Source\n",
      "No Source\n",
      "No Source\n",
      "No Source\n",
      "No Source\n",
      "No Source\n",
      "No Source\n",
      "No Source\n",
      "No Source\n",
      "No Source\n",
      "No Source\n",
      "No Source\n",
      "No Source\n",
      "No Source\n",
      "No Source\n",
      "No Source\n",
      "No Source\n",
      "No Source\n",
      "No Source\n",
      "No Source\n",
      "No Source\n",
      "No Source\n",
      "No Source\n",
      "No Source\n",
      "No Source\n",
      "No Source\n",
      "No Source\n",
      "No Source\n",
      "No Source\n",
      "No Source\n",
      "No Source\n",
      "No Source\n",
      "No Source\n",
      "No Source\n",
      "No Source\n",
      "No Source\n",
      "No Source\n",
      "No Source\n",
      "No Source\n",
      "No Source\n",
      "No Source\n",
      "No Source\n"
     ]
    }
   ],
   "source": [
    "find_image(\"chicken pox\")"
   ]
  },
  {
   "cell_type": "code",
   "execution_count": null,
   "metadata": {},
   "outputs": [],
   "source": [
    "keras."
   ]
  }
 ],
 "metadata": {
  "kernelspec": {
   "display_name": "Python 3",
   "language": "python",
   "name": "python3"
  },
  "language_info": {
   "codemirror_mode": {
    "name": "ipython",
    "version": 3
   },
   "file_extension": ".py",
   "mimetype": "text/x-python",
   "name": "python",
   "nbconvert_exporter": "python",
   "pygments_lexer": "ipython3",
   "version": "3.6.5"
  }
 },
 "nbformat": 4,
 "nbformat_minor": 2
}
