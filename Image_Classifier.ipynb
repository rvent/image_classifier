{
 "cells": [
  {
   "cell_type": "code",
   "execution_count": 1,
   "metadata": {},
   "outputs": [
    {
     "name": "stderr",
     "output_type": "stream",
     "text": [
      "Using TensorFlow backend.\n"
     ]
    }
   ],
   "source": [
    "import numpy as np\n",
    "from selenium import webdriver\n",
    "from selenium.webdriver.common.keys import Keys\n",
    "import selenium.webdriver.support.ui as sui\n",
    "from bs4 import BeautifulSoup\n",
    "import urllib\n",
    "import time\n",
    "import os\n",
    "import keras\n",
    "from keras.models import Sequential\n",
    "from keras.layers.convolutional import Conv2D\n",
    "from keras.layers.convolutional import MaxPooling2D\n",
    "from keras.layers.core import Activation\n",
    "from keras.layers.core import Flatten\n",
    "from keras.layers.core import Dense"
   ]
  },
  {
   "cell_type": "code",
   "execution_count": 2,
   "metadata": {},
   "outputs": [],
   "source": [
    "import shutil"
   ]
  },
  {
   "cell_type": "code",
   "execution_count": 4,
   "metadata": {},
   "outputs": [],
   "source": [
    "img_shingle = [file for file in os.listdir('shingles/')]"
   ]
  },
  {
   "cell_type": "code",
   "execution_count": 5,
   "metadata": {},
   "outputs": [],
   "source": [
    "img_chicken_pox = [file for file in os.listdir('chicken_pox/')]"
   ]
  },
  {
   "cell_type": "code",
   "execution_count": 6,
   "metadata": {},
   "outputs": [],
   "source": [
    "img_measles = [file for file in os.listdir('measles/')]"
   ]
  },
  {
   "cell_type": "code",
   "execution_count": 14,
   "metadata": {},
   "outputs": [],
   "source": [
    "new_dir = 'split/'\n",
    "os.mkdir(new_dir)"
   ]
  },
  {
   "cell_type": "code",
   "execution_count": 15,
   "metadata": {},
   "outputs": [],
   "source": [
    "train_folder = os.path.join(new_dir, \"train\")\n",
    "train_shingles = os.path.join(train_folder, \"shingles\")\n",
    "train_chicken_pox = os.path.join(train_folder, \"chicken_pox\")\n",
    "train_measles = os.path.join(train_folder, \"measles\")\n",
    "\n",
    "test_folder = os.path.join(new_dir, \"test\")\n",
    "test_shingles = os.path.join(test_folder, \"shingles\")\n",
    "test_chicken_pox = os.path.join(test_folder, \"chicken_pox\")\n",
    "test_measles = os.path.join(test_folder, \"measles\")\n",
    "\n",
    "val_folder = os.path.join(new_dir, \"validation\")\n",
    "val_shingles = os.path.join(val_folder, \"shingles\")\n",
    "val_chicken_pox = os.path.join(val_folder, \"chicken_pox\")\n",
    "val_measles = os.path.join(val_folder, \"measles\")"
   ]
  },
  {
   "cell_type": "code",
   "execution_count": 16,
   "metadata": {},
   "outputs": [],
   "source": [
    "os.mkdir(test_folder)\n",
    "os.mkdir(test_shingles)\n",
    "os.mkdir(test_chicken_pox)\n",
    "os.mkdir(test_measles)\n",
    "\n",
    "os.mkdir(train_folder)\n",
    "os.mkdir(train_shingles)\n",
    "os.mkdir(train_chicken_pox)\n",
    "os.mkdir(train_measles)\n",
    "\n",
    "os.mkdir(val_folder)\n",
    "os.mkdir(val_shingles)\n",
    "os.mkdir(val_chicken_pox)\n",
    "os.mkdir(val_measles)"
   ]
  },
  {
   "cell_type": "code",
   "execution_count": 19,
   "metadata": {},
   "outputs": [
    {
     "data": {
      "text/plain": [
       "34"
      ]
     },
     "execution_count": 19,
     "metadata": {},
     "output_type": "execute_result"
    }
   ],
   "source": [
    "len(img_shingle)"
   ]
  },
  {
   "cell_type": "code",
   "execution_count": 13,
   "metadata": {},
   "outputs": [],
   "source": [
    "from PIL import Image\n",
    "\n",
    "for img in img_chicken_pox[:2]:\n",
    "    colorImg  = Image.open(\"chicken_pox/\"+img)\n",
    " \n",
    "    # Rotate it by 45 degrees\n",
    "    rotated = colorImage.rotate(45)\n",
    "    \n",
    "    # Vertical transformation\n",
    "    flipped = colorImg.transpose(Image.FLIP_LEFT_RIGHT)\n",
    "\n",
    "    # Display the Original Image\n",
    "    colorImage.show()\n",
    "\n",
    "    # Display the Image rotated by 45 degrees\n",
    "    flip.show()"
   ]
  },
  {
   "cell_type": "markdown",
   "metadata": {},
   "source": [
    "# Shingles"
   ]
  },
  {
   "cell_type": "code",
   "execution_count": 6,
   "metadata": {},
   "outputs": [],
   "source": [
    "# function that searches different search terms\n",
    "def find_image(term):\n",
    "    folder = term.replace(\" \", \"_\")\n",
    "    if not os.path.isdir(f\"./{folder}\"):\n",
    "        os.makedirs(f\"./{folder}\")\n",
    "    driver = webdriver.Firefox()\n",
    "    driver.get(\"https://www.google.com/imghp\")\n",
    "    time.sleep(1)\n",
    "    element = driver.find_element_by_xpath(\"//input[@class='gLFyf gsfi']\")\n",
    "    element.send_keys(f\"{term}\")\n",
    "    time.sleep(1)\n",
    "    element.send_keys(Keys.ENTER)\n",
    "    time.sleep(1)\n",
    "    elements = driver.find_elements_by_xpath(\"//img[@class='rg_ic rg_i']\")\n",
    "    time.sleep(1)\n",
    "    for num, ele in enumerate(elements):\n",
    "        try:\n",
    "            src = ele.get_attribute(\"src\")\n",
    "            urllib.request.urlretrieve(src, f\"{folder}/img_{num}.png\")\n",
    "        except:\n",
    "            print(\"No Source\")\n",
    "    driver.close()"
   ]
  },
  {
   "cell_type": "code",
   "execution_count": 7,
   "metadata": {},
   "outputs": [
    {
     "name": "stdout",
     "output_type": "stream",
     "text": [
      "No Source\n",
      "No Source\n",
      "No Source\n",
      "No Source\n",
      "No Source\n",
      "No Source\n",
      "No Source\n",
      "No Source\n",
      "No Source\n",
      "No Source\n",
      "No Source\n",
      "No Source\n",
      "No Source\n",
      "No Source\n",
      "No Source\n",
      "No Source\n",
      "No Source\n",
      "No Source\n",
      "No Source\n",
      "No Source\n",
      "No Source\n",
      "No Source\n",
      "No Source\n",
      "No Source\n",
      "No Source\n",
      "No Source\n",
      "No Source\n",
      "No Source\n",
      "No Source\n",
      "No Source\n",
      "No Source\n",
      "No Source\n",
      "No Source\n",
      "No Source\n",
      "No Source\n",
      "No Source\n",
      "No Source\n",
      "No Source\n",
      "No Source\n",
      "No Source\n",
      "No Source\n",
      "No Source\n",
      "No Source\n",
      "No Source\n",
      "No Source\n",
      "No Source\n",
      "No Source\n",
      "No Source\n",
      "No Source\n",
      "No Source\n",
      "No Source\n",
      "No Source\n",
      "No Source\n",
      "No Source\n",
      "No Source\n",
      "No Source\n",
      "No Source\n",
      "No Source\n",
      "No Source\n",
      "No Source\n",
      "No Source\n",
      "No Source\n",
      "No Source\n",
      "No Source\n",
      "No Source\n",
      "No Source\n",
      "No Source\n",
      "No Source\n",
      "No Source\n"
     ]
    }
   ],
   "source": [
    "find_image(\"chicken pox\")"
   ]
  },
  {
   "cell_type": "code",
   "execution_count": 1,
   "metadata": {},
   "outputs": [],
   "source": [
    "def try_this():\n",
    "    for x in range(1,10):\n",
    "        print(x)\n",
    "    !git status\n",
    "    return"
   ]
  },
  {
   "cell_type": "code",
   "execution_count": 2,
   "metadata": {},
   "outputs": [
    {
     "name": "stdout",
     "output_type": "stream",
     "text": [
      "1\n",
      "2\n",
      "3\n",
      "4\n",
      "5\n",
      "6\n",
      "7\n",
      "8\n",
      "9\n",
      "On branch master\n",
      "Your branch is up to date with 'origin/master'.\n",
      "\n",
      "Changes not staged for commit:\n",
      "  (use \"git add/rm <file>...\" to update what will be committed)\n",
      "  (use \"git checkout -- <file>...\" to discard changes in working directory)\n",
      "\n",
      "\t\u001b[31mmodified:   Photographer_Recommender_Content_Base.ipynb\u001b[m\n",
      "\t\u001b[31mdeleted:    Shingles/img_0.png\u001b[m\n",
      "\t\u001b[31mdeleted:    Shingles/img_1.png\u001b[m\n",
      "\t\u001b[31mdeleted:    Shingles/img_10.png\u001b[m\n",
      "\t\u001b[31mdeleted:    Shingles/img_11.png\u001b[m\n",
      "\t\u001b[31mdeleted:    Shingles/img_12.png\u001b[m\n",
      "\t\u001b[31mdeleted:    Shingles/img_13.png\u001b[m\n",
      "\t\u001b[31mdeleted:    Shingles/img_14.png\u001b[m\n",
      "\t\u001b[31mdeleted:    Shingles/img_15.png\u001b[m\n",
      "\t\u001b[31mdeleted:    Shingles/img_16.png\u001b[m\n",
      "\t\u001b[31mdeleted:    Shingles/img_17.png\u001b[m\n",
      "\t\u001b[31mdeleted:    Shingles/img_18.png\u001b[m\n",
      "\t\u001b[31mdeleted:    Shingles/img_19.png\u001b[m\n",
      "\t\u001b[31mdeleted:    Shingles/img_2.png\u001b[m\n",
      "\t\u001b[31mdeleted:    Shingles/img_20.png\u001b[m\n",
      "\t\u001b[31mdeleted:    Shingles/img_21.png\u001b[m\n",
      "\t\u001b[31mdeleted:    Shingles/img_22.png\u001b[m\n",
      "\t\u001b[31mdeleted:    Shingles/img_23.png\u001b[m\n",
      "\t\u001b[31mdeleted:    Shingles/img_24.png\u001b[m\n",
      "\t\u001b[31mdeleted:    Shingles/img_25.png\u001b[m\n",
      "\t\u001b[31mdeleted:    Shingles/img_26.png\u001b[m\n",
      "\t\u001b[31mdeleted:    Shingles/img_27.png\u001b[m\n",
      "\t\u001b[31mdeleted:    Shingles/img_28.png\u001b[m\n",
      "\t\u001b[31mdeleted:    Shingles/img_29.png\u001b[m\n",
      "\t\u001b[31mdeleted:    Shingles/img_3.png\u001b[m\n",
      "\t\u001b[31mdeleted:    Shingles/img_30.png\u001b[m\n",
      "\t\u001b[31mdeleted:    Shingles/img_31.png\u001b[m\n",
      "\t\u001b[31mdeleted:    Shingles/img_32.png\u001b[m\n",
      "\t\u001b[31mdeleted:    Shingles/img_33.png\u001b[m\n",
      "\t\u001b[31mdeleted:    Shingles/img_4.png\u001b[m\n",
      "\t\u001b[31mdeleted:    Shingles/img_5.png\u001b[m\n",
      "\t\u001b[31mdeleted:    Shingles/img_6.png\u001b[m\n",
      "\t\u001b[31mdeleted:    Shingles/img_7.png\u001b[m\n",
      "\t\u001b[31mdeleted:    Shingles/img_8.png\u001b[m\n",
      "\t\u001b[31mdeleted:    Shingles/img_9.png\u001b[m\n",
      "\n",
      "Untracked files:\n",
      "  (use \"git add <file>...\" to include in what will be committed)\n",
      "\n",
      "\t\u001b[31m.ipynb_checkpoints/\u001b[m\n",
      "\t\u001b[31mImage_Classifier-Copy1.ipynb\u001b[m\n",
      "\t\u001b[31m__pycache__/\u001b[m\n",
      "\t\u001b[31mchicken_pox/\u001b[m\n",
      "\t\u001b[31mconfig.py\u001b[m\n",
      "\t\u001b[31memailer.py\u001b[m\n",
      "\t\u001b[31mgeckodriver.log\u001b[m\n",
      "\t\u001b[31minfo_grabber.py\u001b[m\n",
      "\t\u001b[31mmeasles/\u001b[m\n",
      "\t\u001b[31mshingles/\u001b[m\n",
      "\n",
      "no changes added to commit (use \"git add\" and/or \"git commit -a\")\n"
     ]
    }
   ],
   "source": [
    "try_this()"
   ]
  },
  {
   "cell_type": "code",
   "execution_count": 3,
   "metadata": {},
   "outputs": [
    {
     "name": "stdout",
     "output_type": "stream",
     "text": [
      "[master 228bb56] add git test\r\n",
      " 1 file changed, 97 insertions(+), 1 deletion(-)\r\n"
     ]
    }
   ],
   "source": [
    "!git add Image_Classifier.ipynb\n",
    "!git commit -m \"add git test\""
   ]
  },
  {
   "cell_type": "code",
   "execution_count": 4,
   "metadata": {},
   "outputs": [
    {
     "name": "stdout",
     "output_type": "stream",
     "text": [
      "Username for 'https://github.com': ^C\n"
     ]
    }
   ],
   "source": [
    "!git push"
   ]
  },
  {
   "cell_type": "code",
   "execution_count": null,
   "metadata": {},
   "outputs": [],
   "source": []
  }
 ],
 "metadata": {
  "kernelspec": {
   "display_name": "Python 3",
   "language": "python",
   "name": "python3"
  },
  "language_info": {
   "codemirror_mode": {
    "name": "ipython",
    "version": 3
   },
   "file_extension": ".py",
   "mimetype": "text/x-python",
   "name": "python",
   "nbconvert_exporter": "python",
   "pygments_lexer": "ipython3",
   "version": "3.6.5"
  }
 },
 "nbformat": 4,
 "nbformat_minor": 2
}
